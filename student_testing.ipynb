{
 "cells": [
  {
   "cell_type": "code",
   "execution_count": 1,
   "id": "d6194741-2e92-40c4-98a7-55e3690bae4f",
   "metadata": {},
   "outputs": [],
   "source": [
    "# Import needed libraries\n",
    "import pandas as pd\n",
    "import numpy as np\n",
    "import xgboost as xgb"
   ]
  },
  {
   "cell_type": "code",
   "execution_count": 2,
   "id": "f46bc325-b4e0-413c-a73d-b97fb7200668",
   "metadata": {},
   "outputs": [],
   "source": [
    "# Read the training and testing data from CSV files into DataFrames\n",
    "X_train = pd.read_csv('train.csv', index_col=0)  # Loading training data\n",
    "y_train = pd.read_csv('train_labels.csv', index_col=0)  # Loading training labels\n",
    "X_test = pd.read_csv('test.csv', index_col=0)  # Loading testing data"
   ]
  },
  {
   "cell_type": "code",
   "execution_count": 3,
   "id": "c43843f4-25ef-47cf-b890-603a0d29b895",
   "metadata": {},
   "outputs": [
    {
     "data": {
      "text/plain": [
       "((26296946, 19), (424116, 1), (3728, 20))"
      ]
     },
     "execution_count": 3,
     "metadata": {},
     "output_type": "execute_result"
    }
   ],
   "source": [
    "# Display the shapes of the loaded datasets\n",
    "X_train.shape, y_train.shape, X_test.shape"
   ]
  },
  {
   "cell_type": "code",
   "execution_count": 4,
   "id": "1d134086-daf7-4202-8c03-bac7b1c53e62",
   "metadata": {},
   "outputs": [],
   "source": [
    "def column_percentage(feature):\n",
    "    \"\"\"\n",
    "    Calculates the percentage of null values in a specified column within the DataFrame 'df'.\n",
    "\n",
    "    Parameters:\n",
    "    - feature: Name of the column in the DataFrame 'df'.\n",
    "\n",
    "    Returns:\n",
    "    - percentage: The percentage of occurrences where the specified column's values are null.\n",
    "    \"\"\"\n",
    "    return (X_train[feature].isnull()).sum()/X_train[feature].count() * 100"
   ]
  },
  {
   "cell_type": "code",
   "execution_count": 5,
   "id": "28d2270c-1659-420f-9b77-c2de5f9c19cb",
   "metadata": {},
   "outputs": [],
   "source": [
    "# Initialize empty lists to store numerical and categorical feature names\n",
    "num_features = []\n",
    "cat_features = []\n",
    "\n",
    "# Iterate through the columns of X_train to categorize features as numerical or categorical\n",
    "for x in range(len(X_train.dtypes)):\n",
    "    # Check if the feature's data type is not 'object' (indicating a numerical feature)\n",
    "    if X_train.dtypes[x] != object:\n",
    "        # Append the name of the numerical feature to num_features list\n",
    "        num_features.append(X_train.dtypes.index[x])\n",
    "    else:\n",
    "        # Append the name of the categorical feature to cat_features list\n",
    "        cat_features.append(X_train.dtypes.index[x])"
   ]
  },
  {
   "cell_type": "code",
   "execution_count": 6,
   "id": "15c19c1f-9824-4c0a-819d-4974343f9550",
   "metadata": {},
   "outputs": [],
   "source": [
    "# Select specific features (columns) from the training dataset\n",
    "X_train = X_train[num_features]"
   ]
  },
  {
   "cell_type": "code",
   "execution_count": 7,
   "id": "6eb60c90-5be6-479d-8aba-b7acfc0e3923",
   "metadata": {},
   "outputs": [],
   "source": [
    "# Initialize XGBoost model\n",
    "model = xgb.XGBClassifier()"
   ]
  },
  {
   "cell_type": "code",
   "execution_count": 9,
   "id": "c363c907-50c0-4f19-a29a-40480c97d462",
   "metadata": {},
   "outputs": [],
   "source": [
    "# Train the model using the training data\n",
    "model.fit(X_train, y_train)"
   ]
  },
  {
   "cell_type": "code",
   "execution_count": null,
   "id": "1bcf8f02-919c-49e1-a286-8130e712406a",
   "metadata": {},
   "outputs": [],
   "source": [
    "# Use the trained model to predict the target variable for the test dataset\n",
    "y_pred = model.predict(X_test)"
   ]
  }
 ],
 "metadata": {
  "kernelspec": {
   "display_name": "ava",
   "language": "python",
   "name": "ava"
  },
  "language_info": {
   "codemirror_mode": {
    "name": "ipython",
    "version": 3
   },
   "file_extension": ".py",
   "mimetype": "text/x-python",
   "name": "python",
   "nbconvert_exporter": "python",
   "pygments_lexer": "ipython3",
   "version": "3.9.16"
  }
 },
 "nbformat": 4,
 "nbformat_minor": 5
}
